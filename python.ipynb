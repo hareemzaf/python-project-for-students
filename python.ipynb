{
  "nbformat": 4,
  "nbformat_minor": 0,
  "metadata": {
    "colab": {
      "provenance": []
    },
    "kernelspec": {
      "name": "python3",
      "display_name": "Python 3"
    },
    "language_info": {
      "name": "python"
    }
  },
  "cells": [
    {
      "cell_type": "code",
      "execution_count": 1,
      "metadata": {
        "colab": {
          "base_uri": "https://localhost:8080/"
        },
        "id": "FtnuNQtgCs3_",
        "outputId": "f82d0c0f-68ad-44a8-9580-ea2f0a9798bc"
      },
      "outputs": [
        {
          "output_type": "stream",
          "name": "stdout",
          "text": [
            "Welcome to the Unique Words Tracker!\n",
            "Enter sentences, and I will keep track of all unique words.\n",
            "Type 'exit' to stop.\n",
            "Enter a sentence: hello\n",
            "Unique words so far:\n",
            "hello\n",
            "Enter a sentence: how are you\n",
            "Unique words so far:\n",
            "are, hello, how, you\n",
            "Enter a sentence: I'm fine\n",
            "Unique words so far:\n",
            "I'm, are, fine, hello, how, you\n",
            "Enter a sentence: yes\n",
            "Unique words so far:\n",
            "I'm, are, fine, hello, how, yes, you\n",
            "Enter a sentence: exit\n",
            "\n",
            "Final list of unique words:\n",
            "I'm, are, fine, hello, how, yes, you\n",
            "Thank you for using the Unique Words Tracker!\n"
          ]
        }
      ],
      "source": [
        "def unique_words_tracker():\n",
        "    print(\"Welcome to the Unique Words Tracker!\")\n",
        "    print(\"Enter sentences, and I will keep track of all unique words.\")\n",
        "    print(\"Type 'exit' to stop.\")\n",
        "\n",
        "    # Create an empty set to store unique words\n",
        "    unique_words = set()\n",
        "\n",
        "    while True:\n",
        "        # Get user input\n",
        "        sentence = input(\"Enter a sentence: \")\n",
        "\n",
        "        # Check if the user wants to exit\n",
        "        if sentence.lower() == 'exit':\n",
        "            break\n",
        "\n",
        "        # Split the sentence into words and add them to the set\n",
        "        words = sentence.split()\n",
        "        unique_words.update(words)\n",
        "\n",
        "        # Show the unique words so far\n",
        "        print(\"Unique words so far:\")\n",
        "        print(\", \".join(sorted(unique_words)))\n",
        "\n",
        "    print(\"\\nFinal list of unique words:\")\n",
        "    print(\", \".join(sorted(unique_words)))\n",
        "    print(\"Thank you for using the Unique Words Tracker!\")\n",
        "\n",
        "if __name__ == \"__main__\":\n",
        "    unique_words_tracker()\n"
      ]
    },
    {
      "cell_type": "code",
      "source": [],
      "metadata": {
        "id": "XPoQk6x7Ct29"
      },
      "execution_count": null,
      "outputs": []
    }
  ]
}